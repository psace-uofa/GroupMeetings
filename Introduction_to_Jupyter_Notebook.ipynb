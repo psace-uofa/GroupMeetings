{
 "cells": [
  {
   "cell_type": "markdown",
   "metadata": {
    "slideshow": {
     "slide_type": "slide"
    }
   },
   "source": [
    "# Jupyter Notebook\n",
    "## Introduction, Setup, and Walkthrough"
   ]
  },
  {
   "cell_type": "markdown",
   "metadata": {
    "slideshow": {
     "slide_type": "slide"
    }
   },
   "source": [
    "# Introduction:\n",
    "---\n",
    "- Open-source web application\n",
    "- Create and share documents that contain live code, equations, visualizations, and narrative text\n",
    "- Jupyter runs code in many programming languages\n",
    "- **Prerequisite**: ***Python*** (Python 3.3 or greater, or Python 2.7) for installing Jupyter Notebook\n",
    "- Example: https://nbviewer.jupyter.org/github/jrjohansson/scientific-python-lectures/blob/master/Lecture-4-Matplotlib.ipynb"
   ]
  },
  {
   "cell_type": "markdown",
   "metadata": {
    "slideshow": {
     "slide_type": "slide"
    }
   },
   "source": [
    "# Installing Jupyter Notebook\n",
    "---\n",
    "- Jupyter documentation on installation: https://jupyter.readthedocs.io/en/latest/install.html\n",
    "- Using Anaconda and conda (Recommended): \n",
    "```\n",
    "conda install -c conda-forge notebook\n",
    "```\n",
    "- Installing with pip:\n",
    " - First ensure that you have the latest pip:\n",
    "\n",
    "    ```\n",
    "    pip3 install -upgrade pip\n",
    "    ```\n",
    " - Then install the Jupyter Notebook using:\n",
    "\n",
    "    ```\n",
    "    pip3 install jupyter\n",
    "    ```"
   ]
  },
  {
   "cell_type": "markdown",
   "metadata": {
    "slideshow": {
     "slide_type": "subslide"
    }
   },
   "source": [
    "# Run the Jupyter Notebook\n",
    "---\n",
    "-  After installation, run the following command at the Terminal (Mac/Linux) or Command Prompt (Windows):\n",
    "```\n",
    "jupyter notebook\n",
    "```"
   ]
  },
  {
   "cell_type": "markdown",
   "metadata": {
    "slideshow": {
     "slide_type": "slide"
    }
   },
   "source": [
    "# Spyder notebook plugin\n",
    "---\n",
    "- Spyder plugin to use Jupyter notebooks inside Spyder. \n",
    "- Currently it supports basic functionality such as creating new notebooks, opening any notebook in your filesystem and saving notebooks at any location.\n",
    "\n",
    "## Installation:\n",
    "- Using conda (the recommended way):\n",
    "```\n",
    "conda install spyder-notebook –c spyder-ide\n",
    "```\n",
    "- Using pip:\n",
    "```\n",
    "pip install spyder-notebook\n",
    "```"
   ]
  },
  {
   "cell_type": "markdown",
   "metadata": {
    "slideshow": {
     "slide_type": "slide"
    }
   },
   "source": [
    "# JupyterLab \n",
    "---\n",
    "- Juputer’s Next-Generation Notebook Interface\n",
    "\n",
    "## Installation:\n",
    "- Using conda:\n",
    "```\n",
    "Conda install –c conda –forge jupyterlab\n",
    "```\n",
    "- Using pip:\n",
    "```\n",
    "pip install jupyterlab\n",
    "```\n",
    "\n",
    "## Run the JupyterLab\n",
    "- After installation, run the following command at the Terminal (Mac/Linux) or Command Prompt (Windows):\n",
    " ```\n",
    "\tjupyter lab\n",
    "```\n"
   ]
  },
  {
   "cell_type": "code",
   "execution_count": 3,
   "metadata": {},
   "outputs": [
    {
     "name": "stdout",
     "output_type": "stream",
     "text": [
      "1\n"
     ]
    }
   ],
   "source": [
    "c = 1\n",
    "print(c)"
   ]
  }
 ],
 "metadata": {
  "celltoolbar": "Slideshow",
  "kernelspec": {
   "display_name": "Python 3",
   "language": "python",
   "name": "python3"
  },
  "language_info": {
   "codemirror_mode": {
    "name": "ipython",
    "version": 3
   },
   "file_extension": ".py",
   "mimetype": "text/x-python",
   "name": "python",
   "nbconvert_exporter": "python",
   "pygments_lexer": "ipython3",
   "version": "3.7.6"
  }
 },
 "nbformat": 4,
 "nbformat_minor": 4
}
