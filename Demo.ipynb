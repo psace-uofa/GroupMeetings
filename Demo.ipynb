{
 "cells": [
  {
   "cell_type": "markdown",
   "metadata": {},
   "source": [
    "# Ensemble Kalman Filter\n",
    "\n",
    "This **ensemble kalman filter** (EnKF) uses an ensemble of hundreds to thousands of state vectors that are randomly sampled around the estimate, and adds perturbations at each update and predict step. It works with both linear and nonlinear systems. It is developed in ***Python 3***. \n",
    "\n",
    "The ***Ensemble_Kalman_filter.py*** file here is a modified Ensemble Kalman filter version from ***FilterPy*** package, *Copyright (c) 2015 Roger R Labbe Jr.*\n",
    "\n",
    "***Ensemble_Kalman_fiter*** requires **Numpy** and **Scipy** to work. Several useful functions that support the EnKF class are contained in ***useful_tool.py*** file.\n"
   ]
  },
  {
   "cell_type": "code",
   "execution_count": 3,
   "metadata": {},
   "outputs": [],
   "source": [
    "import matplotlib.pyplot as plt\n",
    "import numpy as np\n",
    "from numpy.random import multivariate_normal\n",
    "\n",
    "np.random.seed(1234)\n",
    "\n",
    "\n",
    "def hx(x):\n",
    "    return np.array([x[0]])\n",
    "\n",
    "def fx(x, dt, u): # The fx function must be like fx(x,dt,u)\n",
    "    return np.dot(F, x)\n",
    "    \n",
    "F = np.array([[1., 1.],[0., 1.]]) \n",
    "\n",
    "x = np.array([0., 2.])\n",
    "P = np.eye(2) * 100."
   ]
  },
  {
   "cell_type": "code",
   "execution_count": 2,
   "metadata": {},
   "outputs": [
    {
     "data": {
      "text/plain": [
       "array([0., 1.])"
      ]
     },
     "execution_count": 2,
     "metadata": {},
     "output_type": "execute_result"
    }
   ],
   "source": [
    "x"
   ]
  },
  {
   "cell_type": "code",
   "execution_count": 5,
   "metadata": {},
   "outputs": [
    {
     "data": {
      "text/plain": [
       "array([0., 2.])"
      ]
     },
     "execution_count": 5,
     "metadata": {},
     "output_type": "execute_result"
    }
   ],
   "source": [
    "x"
   ]
  },
  {
   "cell_type": "code",
   "execution_count": null,
   "metadata": {},
   "outputs": [],
   "source": []
  },
  {
   "cell_type": "markdown",
   "metadata": {},
   "source": [
    "# Headline\n",
    "## Headline2\n",
    "*italics* \n",
    "**bold**\n",
    "- unordered list\n",
    "- unordered list\n",
    "> blockquote\n",
    "---\n",
    "backtick `inline code`\n",
    "```\n",
    "block code\n",
    "```\n",
    "$a+b=c$"
   ]
  },
  {
   "cell_type": "code",
   "execution_count": null,
   "metadata": {},
   "outputs": [],
   "source": []
  }
 ],
 "metadata": {
  "kernelspec": {
   "display_name": "Python 3",
   "language": "python",
   "name": "python3"
  },
  "language_info": {
   "codemirror_mode": {
    "name": "ipython",
    "version": 3
   },
   "file_extension": ".py",
   "mimetype": "text/x-python",
   "name": "python",
   "nbconvert_exporter": "python",
   "pygments_lexer": "ipython3",
   "version": "3.7.6"
  }
 },
 "nbformat": 4,
 "nbformat_minor": 4
}
