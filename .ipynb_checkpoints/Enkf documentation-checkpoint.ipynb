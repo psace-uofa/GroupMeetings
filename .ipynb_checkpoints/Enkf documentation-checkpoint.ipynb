{
 "cells": [
  {
   "cell_type": "markdown",
   "metadata": {},
   "source": [
    "# Ensemble Kalman Filter\n",
    "\n",
    "This **ensemble kalman filter** (EnKF) uses an ensemble of hundreds to thousands of state vectors that are randomly sampled around the estimate, and adds perturbations at each update and predict step. It works with both linear and nonlinear systems. It is developed in ***Python 3***. \n",
    "\n",
    "The ***Ensemble_Kalman_filter.py*** file here is a modified Ensemble Kalman filter version from ***FilterPy*** package, *Copyright (c) 2015 Roger R Labbe Jr.*\n",
    "\n",
    "***Ensemble_Kalman_fiter*** requires **Numpy** and **Scipy** to work. Several useful functions that support the EnKF class are contained in ***useful_tool.py*** file."
   ]
  },
  {
   "cell_type": "code",
   "execution_count": 4,
   "metadata": {},
   "outputs": [],
   "source": [
    "import matplotlib.pyplot as plt\n",
    "import numpy as np\n",
    "from numpy.random import multivariate_normal\n",
    "\n",
    "np.random.seed(1234)\n",
    "\n",
    "def hx(x):\n",
    "    return np.array([x[0]])\n",
    "\n",
    "def fx(x, dt, u): # The fx function must be like fx(x,dt,u)\n",
    "    return np.dot(F, x)\n",
    "    \n",
    "F = np.array([[1., 1.],[0., 1.]]) \n",
    "\n",
    "x = np.array([0., 1.])\n",
    "P = np.eye(2) * 100."
   ]
  },
  {
   "cell_type": "markdown",
   "metadata": {},
   "source": [
    "# The Algorithm:\n",
    "## Intialization Step:\n",
    "### Generating ensembles:\n",
    "Select the ensembles from the filter's initial mean and covariance:\n",
    "\n",
    "$$\\hat x_a^n (0|0) \\sim N(x_a(0), P(0)),~~~n \\in [1,N] \\subset \\mathbb{Z}$$"
   ]
  },
  {
   "cell_type": "code",
   "execution_count": 2,
   "metadata": {},
   "outputs": [
    {
     "ename": "NameError",
     "evalue": "name 'multivariate_normal' is not defined",
     "output_type": "error",
     "traceback": [
      "\u001b[1;31m---------------------------------------------------------------------------\u001b[0m",
      "\u001b[1;31mNameError\u001b[0m                                 Traceback (most recent call last)",
      "\u001b[1;32m<ipython-input-2-fee8107f02a0>\u001b[0m in \u001b[0;36m<module>\u001b[1;34m\u001b[0m\n\u001b[0;32m      1\u001b[0m \u001b[0mN\u001b[0m \u001b[1;33m=\u001b[0m \u001b[1;36m100\u001b[0m\u001b[1;33m\u001b[0m\u001b[1;33m\u001b[0m\u001b[0m\n\u001b[1;32m----> 2\u001b[1;33m \u001b[0mensembles\u001b[0m \u001b[1;33m=\u001b[0m \u001b[0mmultivariate_normal\u001b[0m\u001b[1;33m(\u001b[0m\u001b[0mmean\u001b[0m\u001b[1;33m=\u001b[0m\u001b[0mx\u001b[0m\u001b[1;33m,\u001b[0m \u001b[0mcov\u001b[0m\u001b[1;33m=\u001b[0m\u001b[0mP\u001b[0m\u001b[1;33m,\u001b[0m \u001b[0msize\u001b[0m\u001b[1;33m=\u001b[0m\u001b[0mN\u001b[0m\u001b[1;33m)\u001b[0m\u001b[1;33m\u001b[0m\u001b[1;33m\u001b[0m\u001b[0m\n\u001b[0m\u001b[0;32m      3\u001b[0m \u001b[0mfigure\u001b[0m\u001b[1;33m(\u001b[0m\u001b[1;33m)\u001b[0m\u001b[1;33m\u001b[0m\u001b[1;33m\u001b[0m\u001b[0m\n\u001b[0;32m      4\u001b[0m \u001b[0mplt\u001b[0m\u001b[1;33m.\u001b[0m\u001b[0mplot\u001b[0m\u001b[1;33m(\u001b[0m\u001b[0mensembles\u001b[0m\u001b[1;33m)\u001b[0m\u001b[1;33m\u001b[0m\u001b[1;33m\u001b[0m\u001b[0m\n",
      "\u001b[1;31mNameError\u001b[0m: name 'multivariate_normal' is not defined"
     ]
    }
   ],
   "source": [
    "N = 100\n",
    "ensembles = multivariate_normal(mean=x, cov=P, size=N)\n",
    "figure()\n",
    "plt.plot(ensembles)"
   ]
  },
  {
   "cell_type": "markdown",
   "metadata": {},
   "source": [
    "## Predict Step:\n",
    "### State prediction:\n",
    "Pass all the ensembles through a user supplied state transition function and then adds some noise distributed according to the Q matrix.\n",
    "$$\\hat x_a^n (t|t-1) = F_a(\\hat x_a^n(t-1|t-1),u(t-1)) + \\omega_a^n(t-1),~~~n \\in [1,N] \\subset \\mathbb{Z}$$"
   ]
  },
  {
   "cell_type": "code",
   "execution_count": 14,
   "metadata": {},
   "outputs": [],
   "source": [
    "Q = Q_discrete_white_noise(2, 1., .001)\n",
    "for i, s in enumerate(ensembles):\n",
    "    ensembles[i] = fx(x=s, dt=1, u=0)\n",
    "ensembles += multivariate_normal(x,Q,N)"
   ]
  },
  {
   "cell_type": "markdown",
   "metadata": {},
   "source": [
    "## Update Step:\n",
    "### Kalman gain calculation\n",
    "$$K(t) = P_{xy}(t|t-1)P_{yy}(t|t-1)^{-1}$$\n",
    "where:\n",
    "\n",
    "$P_{xy}(t|t-1) = \\frac{1}{N-1} \\sum_{n=1}^{N}[(\\hat x_a^m(t|t-1)-\\bar{x}_a(t|t-1))(\\hat y^m(t|t-1)-\\bar{y}(t|t-1))]$\n",
    "\n",
    "$P_{yy}(t|t-1) = \\frac{1}{N-1} \\sum_{n=1}^{N}[\\hat y^m(t|t-1)-\\bar{y}(t|t-1)]^2$\n",
    "\n",
    "$\\bar{x}_a(t|t-1) = \\frac{1}{N} \\sum_{n=1}^{N}\\hat{x}_a^m(t|t-1)$ and\n",
    "\n",
    "$\\bar{y}(t|t-1) = \\frac{1}{N} \\sum_{n=1}^{N} \\hat{y}^m(t|t-1)$"
   ]
  }
 ],
 "metadata": {
  "kernelspec": {
   "display_name": "Python 3",
   "language": "python",
   "name": "python3"
  },
  "language_info": {
   "codemirror_mode": {
    "name": "ipython",
    "version": 3
   },
   "file_extension": ".py",
   "mimetype": "text/x-python",
   "name": "python",
   "nbconvert_exporter": "python",
   "pygments_lexer": "ipython3",
   "version": "3.7.6"
  }
 },
 "nbformat": 4,
 "nbformat_minor": 4
}
