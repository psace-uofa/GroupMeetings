{
 "cells": [
  {
   "cell_type": "markdown",
   "metadata": {
    "slideshow": {
     "slide_type": "slide"
    }
   },
   "source": [
    "# Jupyter Notebook\n",
    "## Introduction, Setup, and Walkthrough"
   ]
  },
  {
   "cell_type": "markdown",
   "metadata": {
    "slideshow": {
     "slide_type": "slide"
    }
   },
   "source": [
    "# Introduction:\n",
    "---\n",
    "- Open-source web application\n",
    "- Create and share documents that contain live code, equations, visualizations, and narrative text\n",
    "- Jupyter runs code in many programming languages\n",
    "- **Prerequisite**: ***Python*** (Python 3.3 or greater, or Python 2.7) for installing Jupyter Notebook\n",
    "- Example: https://nbviewer.jupyter.org/github/jrjohansson/scientific-python-lectures/blob/master/Lecture-4-Matplotlib.ipynb"
   ]
  },
  {
   "cell_type": "markdown",
   "metadata": {
    "slideshow": {
     "slide_type": "slide"
    }
   },
   "source": [
    "# Installing Jupyter Notebook\n",
    "---\n",
    "- Jupyter documentation on installation: https://jupyter.readthedocs.io/en/latest/install.html\n",
    "\n",
    "- Using Anaconda and conda (Recommended): \n",
    "```\n",
    "conda install -c conda-forge notebook\n",
    "```\n",
    "- Installing with pip:\n",
    " - First ensure that you have the latest pip:\n",
    "\n",
    "    ```\n",
    "    pip3 install -upgrade pip\n",
    "    ```\n",
    " - Then install the Jupyter Notebook using:\n",
    "\n",
    "    ```\n",
    "    pip3 install jupyter\n",
    "    ```"
   ]
  },
  {
   "cell_type": "markdown",
   "metadata": {
    "slideshow": {
     "slide_type": "slide"
    }
   },
   "source": [
    "# Run the Jupyter Notebook\n",
    "---\n",
    "-  After installation, run the following command at the **Terminal (Mac/Linux)** or **Command/ Anaconda Prompt (Windows)**:\n",
    "```\n",
    "jupyter notebook\n",
    "```\n",
    "- We have to **leave the server that we started up in our terminal running**. If we close the window and shut down that server then we wouldn't be able to access our notebooks within our localhost.\n",
    "\n",
    "# Stop the Server\n",
    "---\n",
    "- Use `Control`+`C` to stop this server and shut down all kernels (twice to skip confirmation)."
   ]
  },
  {
   "cell_type": "markdown",
   "metadata": {
    "slideshow": {
     "slide_type": "slide"
    }
   },
   "source": [
    "# Jupyter Notebook Interface \n",
    "---\n",
    "## Command Mode\n",
    "\n",
    "- Command mode is designed for easily navigating and changing the framework of your notebook.\n",
    "\n",
    "> That framework is composed of cells, which keep your data, thoughts, and code in little containers.\n",
    "\n",
    "- Command mode is highlihged in blue.\n",
    "- No pencil icon on the upper-right corner for **command mode**.\n",
    "\n",
    "![command_interface.PNG](./images/command_interface.PNG)\n",
    "\n",
    "\n"
   ]
  },
  {
   "cell_type": "markdown",
   "metadata": {
    "slideshow": {
     "slide_type": "subslide"
    }
   },
   "source": [
    "### Keyboard Shortcuts under Command Mode:\n",
    "| Command mode  | Shortcuts   |\n",
    "| :------- | :---------------- |\n",
    "|a | Add a cell above          |\n",
    "|b | Add a cell below          |\n",
    "|c | Copy cell                 |\n",
    "|v | Paste cell                |\n",
    "|x | Cut cell                  |\n",
    "|dd| Delete cell               |\n",
    "|z | Undo|\n",
    "|`Shift`+z| Redo|\n",
    "|y | Cell format: Code|\n",
    "|m | Cell format: Markdown|\n",
    "|`Enter`| Enter **edit mode**|"
   ]
  },
  {
   "cell_type": "markdown",
   "metadata": {
    "slideshow": {
     "slide_type": "subslide"
    }
   },
   "source": [
    "\n",
    "## Edit Mode\n",
    "- Edit mode is highlighted in green.\n",
    "- A pencil incon on the upper-right corner for **edit mode**.\n",
    "![edit_interface.PNG](./images/edit_interface.PNG)\n",
    "\n",
    "### Keyboard Shortcuts under Edit Mode:\n",
    "| Edit mode  | Shortcuts   |\n",
    "| :------- | :---------------- |\n",
    "|`Shift`+`Enter` |  Run cell, select below      |\n",
    "|`Ctrl`+`Enter`| Run selected cells|\n",
    "|`Alt` + `Enter`| Run cell and  insert below|\n"
   ]
  },
  {
   "cell_type": "markdown",
   "metadata": {
    "slideshow": {
     "slide_type": "slide"
    }
   },
   "source": [
    "# Markdown(.md) Cheatsheet\n",
    "---\n",
    "# Heading\n",
    "> `#` + `text`\n",
    "\n",
    "## Heading 2\n",
    "> `##` + `text`\n",
    "\n",
    "*italics* \n",
    "> `*`+`text`+`*`\n",
    "\n",
    "**bold**\n",
    "> `**`+`text`+`**`\n"
   ]
  },
  {
   "cell_type": "markdown",
   "metadata": {
    "slideshow": {
     "slide_type": "subslide"
    }
   },
   "source": [
    "- Unordered list\n",
    "> `-`+`text`\n",
    "\n",
    "\n",
    "1. ordered list\n",
    "> `Number` + `.`+ `text`\n",
    "\n",
    "> Blockquote using `>` + `text`\n",
    "\n",
    "---\n",
    "> Horizontal line using `---`"
   ]
  },
  {
   "cell_type": "markdown",
   "metadata": {
    "slideshow": {
     "slide_type": "subslide"
    }
   },
   "source": [
    "\n",
    "Type some `incline code` and the rest of your text.\n",
    "> Using `backtick ` + `text` + `backtick`\n",
    "\n",
    "```\n",
    "Typy in a block of code \n",
    "```\n",
    "> Using three backticks (```) + `text` + three backticks\n",
    "\n",
    "Creat equations $a+b=c$ \n",
    "> Using `$`+`euqation`+`$` (Same as Latex)"
   ]
  },
  {
   "cell_type": "markdown",
   "metadata": {
    "slideshow": {
     "slide_type": "slide"
    }
   },
   "source": [
    "# Spyder notebook plugin\n",
    "---\n",
    "- Spyder plugin to use Jupyter notebooks inside Spyder. \n",
    "- Currently it supports basic functionality such as creating new notebooks, opening any notebook in your filesystem and saving notebooks at any location.\n",
    "\n",
    "## Installation:\n",
    "- Using conda (the recommended way):\n",
    "```\n",
    "conda install spyder-notebook –c spyder-ide\n",
    "```\n",
    "- Using pip:\n",
    "```\n",
    "pip install spyder-notebook\n",
    "```"
   ]
  },
  {
   "cell_type": "markdown",
   "metadata": {
    "slideshow": {
     "slide_type": "slide"
    }
   },
   "source": [
    "# JupyterLab \n",
    "---\n",
    "- Juputer’s Next-Generation Notebook Interface\n",
    "\n",
    "## Installation:\n",
    "- Using conda:\n",
    "```\n",
    "Conda install –c conda –forge jupyterlab\n",
    "```\n",
    "- Using pip:\n",
    "```\n",
    "pip install jupyterlab\n",
    "```\n",
    "\n",
    "## Run the JupyterLab\n",
    "- After installation, run the following command at the Terminal (Mac/Linux) or Command Prompt (Windows):\n",
    " ```\n",
    "\tjupyter lab\n",
    "```\n"
   ]
  }
 ],
 "metadata": {
  "kernelspec": {
   "display_name": "Python 3",
   "language": "python",
   "name": "python3"
  },
  "language_info": {
   "codemirror_mode": {
    "name": "ipython",
    "version": 3
   },
   "file_extension": ".py",
   "mimetype": "text/x-python",
   "name": "python",
   "nbconvert_exporter": "python",
   "pygments_lexer": "ipython3",
   "version": "3.7.6"
  }
 },
 "nbformat": 4,
 "nbformat_minor": 4
}
